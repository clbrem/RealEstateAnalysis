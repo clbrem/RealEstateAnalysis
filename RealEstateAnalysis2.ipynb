{
 "cells": [
  {
   "cell_type": "code",
   "execution_count": 1,
   "metadata": {},
   "outputs": [],
   "source": [
    "from RealEstateAnalysis.Data import DataJson\n",
    "from decimal import Decimal\n",
    "from pprint import pprint as pp\n",
    "import matplotlib.pyplot as plt\n",
    "import numpy as np\n",
    "import pandas"
   ]
  },
  {
   "cell_type": "code",
   "execution_count": 2,
   "metadata": {},
   "outputs": [],
   "source": [
    "fileName = \"RealEstateAnalysis/SampleData/Tax_Parcels.json\""
   ]
  },
  {
   "cell_type": "code",
   "execution_count": 3,
   "metadata": {},
   "outputs": [],
   "source": [
    "def parseMoney(money):\n",
    "    return float(money.replace(\"$\", \"\"))"
   ]
  },
  {
   "cell_type": "code",
   "execution_count": 5,
   "metadata": {},
   "outputs": [
    {
     "data": {
      "text/plain": [
       "{'geometry': {'coordinates': [[[-91.15163711896146, 30.602658147393168],\n",
       "    [-91.1514107549946, 30.602658105522337],\n",
       "    [-91.1514069711087, 30.602255621910746],\n",
       "    [-91.15163273978888, 30.60225451287715],\n",
       "    [-91.15163711896146, 30.602658147393168]]],\n",
       "  'type': 'Polygon'},\n",
       " 'properties': {'ASSESSMENT_NUM': '015-9590-3',\n",
       "  'BLOCK': None,\n",
       "  'FLOOD_ZONE': 'AE / X',\n",
       "  'ID': 1,\n",
       "  'LEGAL_DESC': 'Ward: 2-2 #5156, Lot: 42,, Subdiv: BAKER ESTATES. 1ST FILING.',\n",
       "  'LOT': '42',\n",
       "  'OWNER': 'WILKERSON, MELBA',\n",
       "  'OWNER_ADDRESS': '4415 HEATH DR.',\n",
       "  'OWNER_CITY': 'BAKER LA  70714',\n",
       "  'PHYSICAL_ADDRESS': '4415 HEATH DR.',\n",
       "  'PRONO': '1595903',\n",
       "  'STATUS': 'AC',\n",
       "  'SUBDIVISION': 'BAKER ESTATES',\n",
       "  'SUBD_PLAT_NAME': 'BAKER ESTATES 1ST FIL.jpg',\n",
       "  'SUM_ASSESSMENT': 4963,\n",
       "  'SUM_FAIR_MARKET': 49630,\n",
       "  'SUM_HOMESTEAD_EXEMPTION': 4963,\n",
       "  'SUM_IMPROVEMENTS': 4063,\n",
       "  'SUM_LAND': 0,\n",
       "  'SUM_LOT_VALUE': 900,\n",
       "  'SUM_TOTAL_ASSESSMENT': 0,\n",
       "  'WARD_SECTION': '2-2'},\n",
       " 'type': 'Feature'}"
      ]
     },
     "execution_count": 5,
     "metadata": {},
     "output_type": "execute_result"
    }
   ],
   "source": [
    "data = DataJson.new(fileName, [\"features\"])\n",
    "data.load()\n",
    "data[0]"
   ]
  },
  {
   "cell_type": "code",
   "execution_count": null,
   "metadata": {},
   "outputs": [],
   "source": []
  }
 ],
 "metadata": {
  "kernelspec": {
   "display_name": "Python 3",
   "language": "python",
   "name": "python3"
  },
  "language_info": {
   "codemirror_mode": {
    "name": "ipython",
    "version": 3
   },
   "file_extension": ".py",
   "mimetype": "text/x-python",
   "name": "python",
   "nbconvert_exporter": "python",
   "pygments_lexer": "ipython3",
   "version": "3.6.4"
  }
 },
 "nbformat": 4,
 "nbformat_minor": 2
}
